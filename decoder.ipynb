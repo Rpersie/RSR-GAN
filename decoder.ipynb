{
 "cells": [
  {
   "cell_type": "code",
   "execution_count": 2,
   "metadata": {},
   "outputs": [],
   "source": [
    "import torch\n",
    "import torch.nn as nn\n",
    "import torch.nn.functional as F"
   ]
  },
  {
   "cell_type": "code",
   "execution_count": 3,
   "metadata": {},
   "outputs": [],
   "source": [
    "class Decoder(nn.Module):\n",
    "    def __init__(self, output_dim, emb_dim, enc_hid_dim, dec_hid_dim, dropout_rate, attention):\n",
    "        super().__init__()\n",
    "        \n",
    "        self.output_dim = output_dim\n",
    "        self.emb_dim = emb_dim\n",
    "        self.enc_hid_dim = enc_hid_dim\n",
    "        self.dec_hid_dim = dec_hid_dim\n",
    "        self.dropout_rate = dropout_rate\n",
    "        self.attention = attention\n",
    "        \n",
    "        self.embedding = nn.Embedding(output_dim, emb_dim)\n",
    "        self.gru = nn.GRU((enc_hid_dim * 2) + emb_dim, dec_hid_dim, batch_first=True)\n",
    "        self.fc = nn.Linear((enc_hid_dim * 2) + dec_hid_dim + emb_dim, output_dim)\n",
    "        self.dropout = nn.Dropout(dropout_rate)\n",
    "        \n",
    "    def forward(self, input, hidden, encoder_outputs):\n",
    "        # input = [batch_size]\n",
    "        # hidden = [batch_size, dec_hid_dim]\n",
    "        # encoder_outputs = [batch_size, seq_len, enc_hid_dim * 2]\n",
    "        \n",
    "        input = input.unsqueeze(1)\n",
    "        # input = [batch_size, 1]\n",
    "        \n",
    "        embedded = self.dropout(self.embedding(input))\n",
    "        # embedded = [batch_size, 1, emb_dim]\n",
    "        \n",
    "        a = self.attention(hidden, encoder_outputs)\n",
    "        # a = [batch_size, seq_len]\n",
    "        a = a.unsqueeze(1)\n",
    "        # a = [batch_size, 1, seq_len]\n",
    "        \n",
    "        context = torch.bmm(a, encoder_outputs)\n",
    "        # context = [batch_size, 1, enc_hid_dim * 2]\n",
    "        \n",
    "        gru_input = torch.cat((embedded, context), dim=2)\n",
    "        # gru_input = [batch_size, 1, (enc hid dim * 2) + emb dim]\n",
    "        \n",
    "        output, hidden = self.gru(gru_input, hidden.unsqueeze(0))\n",
    "        # output = [batch_size, seq_len, dec hid dim * n directions]\n",
    "        # hidden = [n layers * n directions, batch size, dec hid dim]\n",
    "        \n",
    "        #seq_len, n layers and n directions will always be 1 in this decoder, therefore:\n",
    "        #output = [batch_size, 1, dec_hid_dim]\n",
    "        #hidden = [1, batch_size, dec_hid_dim]\n",
    "        #this also means that output == hidden\n",
    "        \n",
    "        #assert (output == hidden).all()\n",
    "        \n",
    "        embedded = embedded.squeeze(1) #[batch_size, emb_dim]\n",
    "        output = output.squeeze(1) #[batch_size, dec_hid_dim * n directions]??????????\n",
    "        context = context.squeeze(1) #[batch_size, enc_hid_dim * 2]\n",
    "        \n",
    "        output = self.fc(torch.cat((output, context, embedded), dim=1))\n",
    "        # output = [batch size, output dim]\n",
    "        \n",
    "        return output, hidden.squeeze(0)"
   ]
  },
  {
   "cell_type": "code",
   "execution_count": null,
   "metadata": {},
   "outputs": [],
   "source": []
  }
 ],
 "metadata": {
  "kernelspec": {
   "display_name": "AI",
   "language": "python",
   "name": "ai"
  },
  "language_info": {
   "codemirror_mode": {
    "name": "ipython",
    "version": 3
   },
   "file_extension": ".py",
   "mimetype": "text/x-python",
   "name": "python",
   "nbconvert_exporter": "python",
   "pygments_lexer": "ipython3",
   "version": "3.5.6"
  }
 },
 "nbformat": 4,
 "nbformat_minor": 2
}
