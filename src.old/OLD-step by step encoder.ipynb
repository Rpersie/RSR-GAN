{
 "cells": [
  {
   "cell_type": "code",
   "execution_count": 1,
   "metadata": {},
   "outputs": [],
   "source": [
    "import os\n",
    "import math\n",
    "import random\n",
    "import numpy as np\n",
    "\n",
    "import torch\n",
    "import torch.nn as nn\n",
    "import torch.optim as optim\n",
    "import torch.nn.functional as F"
   ]
  },
  {
   "cell_type": "code",
   "execution_count": 2,
   "metadata": {},
   "outputs": [
    {
     "name": "stdout",
     "output_type": "stream",
     "text": [
      "sample-000000.txt  sample-000001.wav  sample-000003.txt  sample-000004.wav\r\n",
      "sample-000000.wav  sample-000002.txt  sample-000003.wav  sample-000005.txt\r\n",
      "sample-000001.txt  sample-000002.wav  sample-000004.txt  sample-000005.wav\r\n"
     ]
    }
   ],
   "source": [
    "!ls 'data/sample/'"
   ]
  },
  {
   "cell_type": "code",
   "execution_count": 3,
   "metadata": {},
   "outputs": [],
   "source": [
    "SEED = 1234\n",
    "\n",
    "random.seed(SEED)\n",
    "torch.manual_seed(SEED)\n",
    "torch.cuda.manual_seed(SEED)\n",
    "torch.backends.cudnn.deterministic = True"
   ]
  },
  {
   "cell_type": "code",
   "execution_count": 19,
   "metadata": {},
   "outputs": [],
   "source": [
    "class Encoder(nn.Module):\n",
    "    def __init__(self, seq_len, input_size, enc_hid_dim, dec_hid_dim, dropout_rate):\n",
    "        super().__init__()\n",
    "        self.seq_len = seq_len\n",
    "        self.input_size = input_size\n",
    "        self.enc_hid_dim = enc_hid_dim\n",
    "        self.dec_hid_dim = dec_hid_dim\n",
    "        self.dropout_rate = dropout_rate\n",
    "        \n",
    "        self._input_size = (enc_hid_dim * 2) + enc_hid_dim\n",
    "        \n",
    "        self.bi_gru1 = nn.GRU(input_size=input_size, \n",
    "                                              hidden_size=enc_hid_dim, bidirectional=True)\n",
    "        self.bi_gru2 = nn.GRU(input_size=self._input_size, \n",
    "                              hidden_size=enc_hid_dim, bidirectional=True)\n",
    "        self.bi_gru3 = nn.GRU(input_size=self._input_size, \n",
    "                              hidden_size=enc_hid_dim, bidirectional=True)\n",
    "        self.bi_gru_stack = nn.GRU(input_size=self._input_size, \n",
    "                              hidden_size=enc_hid_dim, bidirectional=True,\n",
    "                              num_layers=3)\n",
    "        self.pool =  nn.MaxPool2d(kernel_size=(2,1), stride=(2,1)) \n",
    "        \n",
    "    def forward(self, src, init_hidden=None):\n",
    "        # src = [seq_len, batch size, input size]\n",
    "        \n",
    "        ##### Bidirection layer 1 #########\n",
    "        bi_gru1_out, bi_gru1_hid_st =  self.bi_gru1(src)\n",
    "        # bi_gru1_out = [seq_len, batch size, enc_hid_dim * 2]\n",
    "        # bi_gru1_hid_st = [n_direction, batch_size, enc_hid_dim]\n",
    "        bi_gru1_cat_out = torch.cat((bi_gru1_out, \n",
    "                                     bi_gru1_hid_st.repeat(int(bi_gru1_out.size(0)/2), 1, 1)), dim=2)\n",
    "        # bi_gru1_cat_out = [seq_len, batch size, (enc_hid_dim * 2) + enc_hid_dim]\n",
    "        bi_gru1_cat_out = bi_gru1_cat_out.permute(1, 0, 2)\n",
    "        # bi_gru1_cat_out = [batch size, seq_len, (enc_hid_dim * 2) + enc_hid_dim]\n",
    "        \n",
    "        bi_gru1_cat_out = bi_gru1_cat_out.unsqueeze(1)\n",
    "        # bi_gru1_cat_out = [batch size, 1, seq_len, (enc_hid_dim * 2) + enc_hid_dim]\n",
    "        \n",
    "        ######### Polling 1 #######\n",
    "        pool_out1 = self.pool(bi_gru1_cat_out)\n",
    "        # pool_out = [batch size, 1, seq_len / 2, (enc_hid_dim * 2) + enc_hid_dim]\n",
    "        pool_out1 = pool_out1.squeeze(1)\n",
    "        # pool_out = [batch size, seq_len / 2, ((enc_hid_dim * 2) + enc_hid_dim)]\n",
    "        \n",
    "        pool_out1 = pool_out1.permute(1, 0, 2)\n",
    "        # pool_out = [seq_len / 2, batch size, (enc_hid_dim * 2) + enc_hid_dim]\n",
    "        \n",
    "        #### Bidirection Layer 2 ##########\n",
    "        bi_gru2_out, bi_gru2_hid_st =  self.bi_gru2(pool_out1)\n",
    "        # bi_gru2_out = [seq_len/2, batch size, enc_hid_dim * 2]\n",
    "        # bi_gru2_hid_st = [n_direction, batch size, enc_hid_dim]\n",
    "        \n",
    "        bi_gru2_cat_out = torch.cat((bi_gru2_out, \n",
    "                                    bi_gru2_hid_st.repeat(int(bi_gru2_out.size(0)/2), 1, 1)), dim=2)\n",
    "        # bi_gru2_cat_out = [seq_len/2, batch size, (enc_hid_dim * 2) + enc_hid_dim]\n",
    "        \n",
    "        bi_gru2_cat_out = bi_gru2_cat_out.permute(1, 0, 2).unsqueeze(1)\n",
    "        # bi_gru2_cat_out = [batch size, 1, seq_len/2, (enc_hid_dim * 2) + enc_hid_dim]\n",
    "        \n",
    "        #### Pooling 2 ##########\n",
    "        pool_out2 = self.pool(bi_gru2_cat_out).squeeze(1)\n",
    "        # pool_out2 = [batch size, seq_len / 4, (enc_hid_dim * 2) + enc_hid_dim]\n",
    "        \n",
    "        pool_out2 = pool_out2.permute(1, 0, 2)\n",
    "        # pool_out2 = [seq_len / 4, batch size, (enc_hid_dim * 2) + enc_hid_dim]\n",
    "        \n",
    "        #### Bidirection Layer 3 ##########\n",
    "        bi_gru3_out, bi_gru3_hid_st =  self.bi_gru3(pool_out2)\n",
    "        # bi_gru3_out = [seq_len/4, batch size, enc_hid_dim * 2]\n",
    "        # bi_gru3_hid_st = [n_direction, batch size, enc_hid_dim]\n",
    "        \n",
    "        bi_gru3_cat_out = torch.cat((bi_gru3_out, \n",
    "                                    bi_gru3_hid_st.repeat(int(bi_gru3_out.size(0)/2), 1, 1)), dim=2)\n",
    "        # bi_gru3_cat_out = [seq_len/4, batch size, (enc_hid_dim * 2) + enc_hid_dim]\n",
    "        \n",
    "        bi_gru3_cat_out = bi_gru3_cat_out.permute(1, 0, 2).unsqueeze(1)\n",
    "        # bi_gru3_cat_out = [batch size, 1, seq_len/4, (enc_hid_dim * 2) + enc_hid_dim]\n",
    "        \n",
    "        #### Pooling 3 ##########\n",
    "        pool_out3 = self.pool(bi_gru3_cat_out).squeeze(1)\n",
    "        # pool_out3 = [batch size, seq_len / 6, (enc_hid_dim * 2) + enc_hid_dim]\n",
    "        \n",
    "        pool_out3 = pool_out3.permute(1, 0, 2)\n",
    "        # pool_out3 = [seq_len / 6, batch size, (enc_hid_dim * 2) + enc_hid_dim]\n",
    "        \n",
    "        ### Bidirectional Stack ######\n",
    "        bi_gru_stack_out, bi_gru_stack_hid_st =  self.bi_gru_stack(pool_out3)\n",
    "        # bi_gru_stack_out = [seq_len/6, batch size, enc_hid_dim * 2]\n",
    "        # bi_gru_stack_hid_st = [n_direction, batch size, enc_hid_dim]\n",
    "        \n",
    "        zeros = torch.zeros(bi_gru_stack_out.size(0)%bi_gru_stack_hid_st.size(0), 1, self.enc_hid_dim)\n",
    "        bi_gru_stack_hid_st = bi_gru_stack_hid_st.repeat(\n",
    "                                        int(bi_gru_stack_out.size(0)/bi_gru_stack_hid_st.size(0)), 1, 1)\n",
    "        extended_hid_st = torch.cat((bi_gru_stack_hid_st, zeros), dim=0)\n",
    "        bi_gru_stack_cat_out = torch.cat((bi_gru_stack_out, extended_hid_st), dim=2)\n",
    "        # bi_gru_stack_cat_out = [seq_len/6, batch size, (enc_hid_dim * 2) + enc_hid_dim]\n",
    "        \n",
    "        bi_gru_stack_cat_out = bi_gru_stack_cat_out.permute(1, 0, 2).unsqueeze(1)\n",
    "        # bi_gru_stack_cat_out = [batch size, 1, seq_len/6, (enc_hid_dim * 2) + enc_hid_dim]\n",
    "        \n",
    "        return bi_gru_stack_cat_out"
   ]
  },
  {
   "cell_type": "markdown",
   "metadata": {},
   "source": [
    "### Check Encoder"
   ]
  },
  {
   "cell_type": "code",
   "execution_count": 20,
   "metadata": {},
   "outputs": [
    {
     "data": {
      "text/plain": [
       "((128, 241), 16000)"
      ]
     },
     "execution_count": 20,
     "metadata": {},
     "output_type": "execute_result"
    }
   ],
   "source": [
    "import librosa\n",
    "import warnings\n",
    "warnings.filterwarnings(\"ignore\")\n",
    "\n",
    "y, sr = librosa.load('data/sample/sample-000003.wav', sr=16000)\n",
    "mel_spectrogram = librosa.feature.melspectrogram(y, sr)\n",
    "mel_spectrogram.shape, sr"
   ]
  },
  {
   "cell_type": "code",
   "execution_count": 21,
   "metadata": {},
   "outputs": [
    {
     "data": {
      "text/plain": [
       "torch.Size([128, 1, 241])"
      ]
     },
     "execution_count": 21,
     "metadata": {},
     "output_type": "execute_result"
    }
   ],
   "source": [
    "src = torch.from_numpy(mel_spectrogram.reshape(128, 1, -1)).float() #.reshape(129, 1, 227)\n",
    "src.size()"
   ]
  },
  {
   "cell_type": "code",
   "execution_count": 22,
   "metadata": {},
   "outputs": [],
   "source": [
    "SEQ_LEN = src.size(0)\n",
    "INPUT_SIZE = src.size(2)\n",
    "ENC_HID_DIM = 256\n",
    "DEC_HID_DIM = 256 \n",
    "DROPOUT_RATE = 0.2\n",
    "\n",
    "encoder = Encoder(SEQ_LEN, INPUT_SIZE, ENC_HID_DIM, DEC_HID_DIM, DROPOUT_RATE)\n",
    "out = encoder(src)"
   ]
  },
  {
   "cell_type": "code",
   "execution_count": 23,
   "metadata": {},
   "outputs": [
    {
     "data": {
      "text/plain": [
       "torch.Size([1, 1, 16, 768])"
      ]
     },
     "execution_count": 23,
     "metadata": {},
     "output_type": "execute_result"
    }
   ],
   "source": [
    "out.size()#, hid.size()"
   ]
  },
  {
   "cell_type": "code",
   "execution_count": 24,
   "metadata": {},
   "outputs": [
    {
     "data": {
      "text/plain": [
       "Encoder(\n",
       "  (bi_gru1): GRU(241, 256, bidirectional=True)\n",
       "  (bi_gru2): GRU(768, 256, bidirectional=True)\n",
       "  (bi_gru3): GRU(768, 256, bidirectional=True)\n",
       "  (bi_gru_stack): GRU(768, 256, num_layers=3, bidirectional=True)\n",
       "  (pool): MaxPool2d(kernel_size=(2, 1), stride=(2, 1), padding=0, dilation=1, ceil_mode=False)\n",
       ")"
      ]
     },
     "execution_count": 24,
     "metadata": {},
     "output_type": "execute_result"
    }
   ],
   "source": [
    "encoder"
   ]
  },
  {
   "cell_type": "code",
   "execution_count": null,
   "metadata": {},
   "outputs": [],
   "source": []
  }
 ],
 "metadata": {
  "kernelspec": {
   "display_name": "AI",
   "language": "python",
   "name": "ai"
  },
  "language_info": {
   "codemirror_mode": {
    "name": "ipython",
    "version": 3
   },
   "file_extension": ".py",
   "mimetype": "text/x-python",
   "name": "python",
   "nbconvert_exporter": "python",
   "pygments_lexer": "ipython3",
   "version": "3.5.6"
  }
 },
 "nbformat": 4,
 "nbformat_minor": 2
}
