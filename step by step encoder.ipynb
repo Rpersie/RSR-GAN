{
 "cells": [
  {
   "cell_type": "code",
   "execution_count": 1,
   "metadata": {},
   "outputs": [],
   "source": [
    "import os\n",
    "import math\n",
    "import random\n",
    "import numpy as np\n",
    "\n",
    "import torch\n",
    "import torch.nn as nn\n",
    "import torch.optim as optim\n",
    "import torch.nn.functional as F"
   ]
  },
  {
   "cell_type": "code",
   "execution_count": 2,
   "metadata": {},
   "outputs": [
    {
     "name": "stdout",
     "output_type": "stream",
     "text": [
      "sample-000000.txt  sample-000001.wav  sample-000003.txt  sample-000004.wav\r\n",
      "sample-000000.wav  sample-000002.txt  sample-000003.wav  sample-000005.txt\r\n",
      "sample-000001.txt  sample-000002.wav  sample-000004.txt  sample-000005.wav\r\n"
     ]
    }
   ],
   "source": [
    "!ls 'data/sample/'"
   ]
  },
  {
   "cell_type": "code",
   "execution_count": 59,
   "metadata": {},
   "outputs": [],
   "source": [
    "class Encoder(nn.Module):\n",
    "    def __init__(self, input_size, enc_hid_dim, num_gru,\n",
    "                 dec_hid_dim, dropout_rate, use_pooling=False):\n",
    "        super().__init__()\n",
    "        self.input_size = input_size\n",
    "        self.num_gru = num_gru\n",
    "        self.enc_hid_dim = enc_hid_dim\n",
    "        self.dec_hid_dim = dec_hid_dim\n",
    "        self.dropout_rate = dropout_rate\n",
    "        self.use_pooling = use_pooling\n",
    "        \n",
    "        self.rnn_stack = nn.ModuleList()\n",
    "        for i in range(num_gru):\n",
    "            _input_size = input_size if i == 0 else enc_hid_dim * 2\n",
    "            self.rnn_stack.append(self.biGru(input_size=_input_size, \n",
    "                                  hidden_size=enc_hid_dim, dropout_rate=dropout_rate))\n",
    "        \n",
    "        self.fc = nn.Linear(enc_hid_dim * 2, dec_hid_dim)\n",
    "        self.pool =  nn.MaxPool2d(kernel_size=(2,1), stride=(2,1))\n",
    "\n",
    "        \n",
    "    def forward(self, input):\n",
    "        for gru in self.rnn_stack:\n",
    "            output, h_n = self.layerBlock(gru, input)\n",
    "            input = output        \n",
    "        \n",
    "        init_hidden_decoder = self.fc(torch.cat((h_n[-2, :, : ], h_n[-1, :, : ]), \n",
    "                                                dim=1))\n",
    "        \n",
    "        return output, h_n , init_hidden_decoder\n",
    "    \n",
    "    \n",
    "    def biGru(self, input_size, hidden_size, dropout_rate):\n",
    "        return nn.GRU(input_size=input_size, hidden_size=hidden_size, bias=True, \n",
    "                      bidirectional=True, batch_first=True, dropout=dropout_rate)\n",
    "    \n",
    "        \n",
    "    def layerBlock(self, gru, input):\n",
    "        # input = [batch_size, seq_len, input_size]\n",
    "        \n",
    "        output, h_n = gru(input)\n",
    "        # output = [batch_size, seq_len, enc_hid_dim * num_directions]\n",
    "        # h_n = [num_layers * num_directions, batch_size, enc_hid_dim]\n",
    "        \n",
    "        batch_norm = nn.BatchNorm1d(num_features=output.size(2))\n",
    "        # batch_norm input -> (N,C,L), where C is num_features. \n",
    "        \n",
    "        output = batch_norm(output.permute(0, 2, 1)).permute(0, 2, 1)\n",
    "        # first permute to match batch_norm input convention \n",
    "        # then second permute to contruct original shape.\n",
    "        # output = [batch_size, seq_len, enc_hid_dim * num_directions]\n",
    "        \n",
    "        output = F.leaky_relu(output)\n",
    "        \n",
    "        if self.use_pooling:\n",
    "            raise NotImplementedError('Implement pooling option for first 3 layer.')\n",
    "            \"\"\"\n",
    "            reminder = output.size(0) % h_n.size(0)\n",
    "            h_n = h_n.repeat(math.floor(output.size(0) / h_n.size(0)), 1, 1)\n",
    "            if not reminder == 0:\n",
    "                zeros = torch.zeros(output.size(0) % h_n.size(0), h_n.size(1), h_n.size(2))\n",
    "                h_n = torch.cat((h_n, zeros), dim=0)\n",
    "            merge_output = torch.cat((output, h_n), dim=2)\n",
    "            merge_output = merge_output.permute(1, 0, 2)\n",
    "            merge_output = merge_output.unsqueeze(1)\n",
    "            merge_output = pool(merge_output)\n",
    "            merge_output = merge_output.squeeze(1)\n",
    "            \"\"\"\n",
    "        \n",
    "        return output, h_n"
   ]
  },
  {
   "cell_type": "code",
   "execution_count": 43,
   "metadata": {},
   "outputs": [
    {
     "data": {
      "text/plain": [
       "((128, 241), 16000)"
      ]
     },
     "execution_count": 43,
     "metadata": {},
     "output_type": "execute_result"
    }
   ],
   "source": [
    "import librosa\n",
    "import warnings\n",
    "warnings.filterwarnings(\"ignore\")\n",
    "\n",
    "y, sr = librosa.load('data/sample/sample-000003.wav', sr=16000)\n",
    "mel_spectrogram = librosa.feature.melspectrogram(y, sr)\n",
    "mel_spectrogram.shape, sr"
   ]
  },
  {
   "cell_type": "code",
   "execution_count": 48,
   "metadata": {},
   "outputs": [
    {
     "data": {
      "text/plain": [
       "torch.Size([1, 128, 241])"
      ]
     },
     "execution_count": 48,
     "metadata": {},
     "output_type": "execute_result"
    }
   ],
   "source": [
    "src = torch.from_numpy(mel_spectrogram.reshape(1, 128, -1)).float() #.reshape(129, 1, 227)\n",
    "src.size()"
   ]
  },
  {
   "cell_type": "code",
   "execution_count": 60,
   "metadata": {},
   "outputs": [],
   "source": [
    "SEQ_LEN = src.size(1)\n",
    "INPUT_SIZE = src.size(2)\n",
    "NUM_GRU = 6\n",
    "ENC_HID_DIM = 256\n",
    "DEC_HID_DIM = 256 \n",
    "DROPOUT_RATE = 0.2\n",
    "\n",
    "encoder = Encoder(SEQ_LEN, INPUT_SIZE, NUM_GRU, ENC_HID_DIM, DEC_HID_DIM, DROPOUT_RATE)\n",
    "out, hn = encoder(src)"
   ]
  },
  {
   "cell_type": "code",
   "execution_count": 61,
   "metadata": {},
   "outputs": [
    {
     "data": {
      "text/plain": [
       "(torch.Size([1, 128, 512]), torch.Size([2, 1, 256]))"
      ]
     },
     "execution_count": 61,
     "metadata": {},
     "output_type": "execute_result"
    }
   ],
   "source": [
    "out.size(), hn.size()"
   ]
  },
  {
   "cell_type": "code",
   "execution_count": 63,
   "metadata": {},
   "outputs": [
    {
     "data": {
      "text/plain": [
       "torch.Size([1, 256])"
      ]
     },
     "execution_count": 63,
     "metadata": {},
     "output_type": "execute_result"
    }
   ],
   "source": [
    "hn[-1, :, : ].size()"
   ]
  },
  {
   "cell_type": "code",
   "execution_count": 62,
   "metadata": {},
   "outputs": [
    {
     "data": {
      "text/plain": [
       "Encoder(\n",
       "  (rnn_stack): ModuleList(\n",
       "    (0): GRU(241, 256, batch_first=True, dropout=0.2, bidirectional=True)\n",
       "    (1): GRU(512, 256, batch_first=True, dropout=0.2, bidirectional=True)\n",
       "    (2): GRU(512, 256, batch_first=True, dropout=0.2, bidirectional=True)\n",
       "    (3): GRU(512, 256, batch_first=True, dropout=0.2, bidirectional=True)\n",
       "    (4): GRU(512, 256, batch_first=True, dropout=0.2, bidirectional=True)\n",
       "    (5): GRU(512, 256, batch_first=True, dropout=0.2, bidirectional=True)\n",
       "  )\n",
       "  (fc): Linear(in_features=512, out_features=256, bias=True)\n",
       "  (pool): MaxPool2d(kernel_size=(2, 1), stride=(2, 1), padding=0, dilation=1, ceil_mode=False)\n",
       ")"
      ]
     },
     "execution_count": 62,
     "metadata": {},
     "output_type": "execute_result"
    }
   ],
   "source": [
    "encoder"
   ]
  },
  {
   "cell_type": "code",
   "execution_count": null,
   "metadata": {},
   "outputs": [],
   "source": []
  }
 ],
 "metadata": {
  "kernelspec": {
   "display_name": "AI",
   "language": "python",
   "name": "ai"
  },
  "language_info": {
   "codemirror_mode": {
    "name": "ipython",
    "version": 3
   },
   "file_extension": ".py",
   "mimetype": "text/x-python",
   "name": "python",
   "nbconvert_exporter": "python",
   "pygments_lexer": "ipython3",
   "version": "3.5.6"
  }
 },
 "nbformat": 4,
 "nbformat_minor": 2
}
